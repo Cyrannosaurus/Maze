{
 "metadata": {
  "language_info": {
   "codemirror_mode": {
    "name": "ipython",
    "version": 3
   },
   "file_extension": ".py",
   "mimetype": "text/x-python",
   "name": "python",
   "nbconvert_exporter": "python",
   "pygments_lexer": "ipython3",
   "version": "3.7.6-final"
  },
  "orig_nbformat": 2,
  "kernelspec": {
   "name": "python3",
   "display_name": "Python 3",
   "language": "python"
  }
 },
 "nbformat": 4,
 "nbformat_minor": 2,
 "cells": [
  {
   "cell_type": "code",
   "execution_count": 7,
   "metadata": {},
   "outputs": [],
   "source": [
    "from Frontier import *\n",
    "import random as rand\n",
    "from typing import Sequence"
   ]
  },
  {
   "cell_type": "code",
   "execution_count": 9,
   "metadata": {},
   "outputs": [],
   "source": [
    "def state_generator():\n",
    "    while True:\n",
    "        yield (rand.randint(0,10000), rand.randint(0,10000))\n",
    "def node_generator(node_pool : Sequence[Node] = None):\n",
    "    sg = state_generator()\n",
    "    if node_pool != None:\n",
    "        while True:\n",
    "            yield Node(next(sg),rand.randint(0,10000), None)\n",
    "    else:\n",
    "        while True:\n",
    "            yield Node(next(sg),rand.randint(0,10000), rand.choice(node_pool))\n",
    "def stack_and_queue_test(frontier:Frontier):\n",
    "    add_test(frontier)\n",
    "\n",
    "def add_test(frontier:Frontier):\n",
    "    node_pool = [None]\n",
    "    ng = node_generator(node_pool)\n",
    "    last_node = None\n",
    "    for _ in range(1000):\n",
    "        last_node = next(ng)\n",
    "        node_pool.append(last_node)\n",
    "        frontier.add(last_node)\n",
    "\n",
    "    if len(frontier.nodes) != 1000:\n",
    "        raise Exception(f\"{type(frontier).__name__} contains {len(frontier.nodes)} not 1000\")\n",
    "    if frontier.size != 1000:\n",
    "        raise Exception(f\"{type(frontier).__name__}.size is {frontier.size} not 1000\")\n",
    "    print(\"Passed .add() test\")\n",
    "\n",
    "    pop_test(frontier, last_node)\n",
    "\n",
    "def pop_test(frontier:Frontier, last_node):\n",
    "    node = None\n",
    "    for i in range(1000):\n",
    "        node = frontier.pop()\n",
    "        if i == 0 and \"stack\" in type(frontier).__name__.lower():\n",
    "            if last_node != node:\n",
    "                raise Exception(\"Last in was not first out\")\n",
    "        elif i == 999 and \"queue\" in type(frontier).__name__.lower():\n",
    "            if last_node != node:\n",
    "                raise Exception(\"Last in was last out\")\n",
    "    if len(frontier.nodes) != 0:\n",
    "        raise Exception(f\"Called pop 1000 times but only popped {1000-len(frontier.nodes)} nodes\")\n",
    "    if not frontier.is_empty():\n",
    "        raise Exception(\"Frontier has 0 nodes but is not empty\")\n",
    "    print(\"Passed .pop() test\")\n",
    "\n",
    "def heap_test(frontier:HeapFrontier):\n",
    "    node_pool = [None]\n",
    "    ng = node_generator(node_pool)\n",
    "    last_node = None\n",
    "    for _ in range(1000):\n",
    "        last_node = next(ng)\n",
    "        node_pool.append(last_node)\n",
    "        frontier.add(last_node)\n",
    "        frontier.add(last_node)\n",
    "    \n",
    "    if len(frontier.nodes) != 1000:\n",
    "        raise Exception(f\"{type(frontier).__name__} contains {len(frontier.nodes)} not 1000\")\n",
    "    if frontier.size != 1000:\n",
    "        raise Exception(f\"{type(frontier).__name__}.size is {frontier.size} not 1000\")\n",
    "    print(\"Passed .add() test\")\n",
    "\n",
    "    node = None\n",
    "    vals = []\n",
    "    while not frontier.is_empty():\n",
    "        vals.append(frontier.pop().cost)\n",
    "\n",
    "    if not all(vals[i] <= vals[i+1] for i in range(len(vals)-1)):\n",
    "        raise Exception(\"Heap is not sorted min first\")\n",
    "\n",
    "    if len(frontier.nodes) != 0:\n",
    "        raise Exception(f\"Size = 0 but frontier is not empty\")\n",
    "    if not frontier.is_empty():\n",
    "        raise Exception(\"Frontier has 0 nodes but is not empty\")\n",
    "    print(\"Passed .pop() test\")"
   ]
  },
  {
   "cell_type": "code",
   "execution_count": 8,
   "metadata": {},
   "outputs": [],
   "source": [
    "stack = StackFrontier()\n",
    "queue = QueueFrontier()\n",
    "heap = HeapFrontier()"
   ]
  },
  {
   "cell_type": "code",
   "execution_count": 10,
   "metadata": {},
   "outputs": [
    {
     "output_type": "stream",
     "name": "stdout",
     "text": [
      "Passed .add() test\nPassed .pop() test\n"
     ]
    }
   ],
   "source": [
    "stack_and_queue_test(stack)"
   ]
  },
  {
   "cell_type": "code",
   "execution_count": 11,
   "metadata": {},
   "outputs": [
    {
     "output_type": "stream",
     "name": "stdout",
     "text": [
      "Passed .add() test\nPassed .pop() test\n"
     ]
    }
   ],
   "source": [
    "stack_and_queue_test(queue)"
   ]
  },
  {
   "cell_type": "code",
   "execution_count": 12,
   "metadata": {},
   "outputs": [
    {
     "output_type": "stream",
     "name": "stdout",
     "text": [
      "Passed .add() test\nPassed .pop() test\n"
     ]
    }
   ],
   "source": [
    "# 1 in 10,000^3 chance to fail the .add() test due to an unexpected repeat Node\n",
    "heap_test(heap)"
   ]
  },
  {
   "cell_type": "code",
   "execution_count": 17,
   "metadata": {},
   "outputs": [
    {
     "output_type": "execute_result",
     "data": {
      "text/plain": [
       "[]"
      ]
     },
     "metadata": {},
     "execution_count": 17
    }
   ],
   "source": []
  }
 ]
}