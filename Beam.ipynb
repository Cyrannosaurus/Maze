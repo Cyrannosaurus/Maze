{
 "metadata": {
  "language_info": {
   "codemirror_mode": {
    "name": "ipython",
    "version": 3
   },
   "file_extension": ".py",
   "mimetype": "text/x-python",
   "name": "python",
   "nbconvert_exporter": "python",
   "pygments_lexer": "ipython3",
   "version": "3.8.5-final"
  },
  "orig_nbformat": 2,
  "kernelspec": {
   "name": "python38264bit788ccd929b554eb9a41fb3332b76ec88",
   "display_name": "Python 3.8.2 64-bit"
  }
 },
 "nbformat": 4,
 "nbformat_minor": 2,
 "cells": [
  {
   "cell_type": "code",
   "execution_count": 1,
   "metadata": {},
   "outputs": [],
   "source": [
    "import heapq as hp, random as rand\n",
    "from collections import deque\n",
    "from Agent import Agent\n",
    "from Maze import Maze\n",
    "from Frontier import *"
   ]
  },
  {
   "cell_type": "code",
   "execution_count": 2,
   "metadata": {},
   "outputs": [],
   "source": [
    "test_maze = [[0,-1,0,0,0],[0,0,0,0,0],[0,0,0,0,0],[0,0,0,0,0],[0,0,0,0,-2]]"
   ]
  },
  {
   "cell_type": "code",
   "execution_count": 3,
   "metadata": {},
   "outputs": [
    {
     "output_type": "stream",
     "name": "stdout",
     "text": [
      "Visited a total of 24 unique nodes\n"
     ]
    },
    {
     "output_type": "execute_result",
     "data": {
      "text/plain": [
       "(True,\n",
       " [(0, 1),\n",
       "  (0, 2),\n",
       "  (0, 3),\n",
       "  (0, 4),\n",
       "  (1, 4),\n",
       "  (1, 3),\n",
       "  (1, 2),\n",
       "  (1, 1),\n",
       "  (1, 0),\n",
       "  (2, 0),\n",
       "  (2, 1),\n",
       "  (2, 2),\n",
       "  (2, 3),\n",
       "  (2, 4),\n",
       "  (3, 4),\n",
       "  (3, 3),\n",
       "  (3, 2),\n",
       "  (3, 1),\n",
       "  (3, 0),\n",
       "  (4, 0),\n",
       "  (4, 1),\n",
       "  (4, 2),\n",
       "  (4, 3),\n",
       "  (4, 4)])"
      ]
     },
     "metadata": {},
     "execution_count": 3
    }
   ],
   "source": [
    "Agent.DFS(test_maze,(0,1))"
   ]
  },
  {
   "cell_type": "code",
   "execution_count": 3,
   "metadata": {
    "tags": []
   },
   "outputs": [],
   "source": [
    "maze_maker = Maze()\n",
    "maze_maker.generate_random()"
   ]
  },
  {
   "cell_type": "code",
   "execution_count": 2,
   "metadata": {},
   "outputs": [],
   "source": [
    "beam = BeamFrontier(5)"
   ]
  },
  {
   "cell_type": "code",
   "execution_count": 3,
   "metadata": {},
   "outputs": [],
   "source": [
    "node1 = Node((1,1),1,None)\n",
    "node2 = Node((1,2),2,None)\n",
    "node3 = Node((1,3),3,None)\n",
    "node4 = Node((1,4),4,None)\n",
    "node5 = Node((1,5),5,None)\n",
    "node6 = Node((1,6),6,None)\n",
    "node7 = Node((1,7),7,None)\n",
    "node8 = Node((1,8),8,None)\n",
    "node9 = Node((1,9),9,None)\n",
    "\n"
   ]
  },
  {
   "cell_type": "code",
   "execution_count": 4,
   "metadata": {},
   "outputs": [
    {
     "output_type": "stream",
     "name": "stdout",
     "text": [
      "[(1, 1, (1, 1))]\n[(1, 1, (1, 1)), (8, 2, (1, 8))]\n[(1, 1, (1, 1)), (8, 2, (1, 8)), (5, 3, (1, 5))]\n(1, 1, (1, 1))\n[(5, 3, (1, 5)), (8, 2, (1, 8))]\n"
     ]
    }
   ],
   "source": [
    "beam.add(node1)\n",
    "print(beam)\n",
    "beam.add(node8)\n",
    "print(beam)\n",
    "beam.add(node5)\n",
    "print(beam)\n",
    "print(beam.pop())\n",
    "print(beam)\n",
    "print(beam.pop())\n",
    "print(beam)\n",
    "print(beam.pop())\n",
    "print(beam)\n",
    "# beam.add(node4)\n",
    "# print(beam)\n",
    "# beam.add(node9)\n",
    "# print(beam)\n",
    "# beam.add(node2)\n",
    "# print(beam)\n",
    "# beam.add(node6)\n",
    "# print(beam)\n"
   ]
  }
 ]
}
